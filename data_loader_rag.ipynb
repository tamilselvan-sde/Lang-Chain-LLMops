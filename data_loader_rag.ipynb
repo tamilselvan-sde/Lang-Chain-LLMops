{
 "cells": [
  {
   "cell_type": "markdown",
   "metadata": {},
   "source": [
    "# RAG (Retrieval-Augmented Generation)\n",
    "\n",
    "RAG = ```Retrieval-Augmented Generation``` is an AI architecture that combines:\n",
    "\n",
    "Retrieval → A retriever component (e.g., vector database with embeddings like FAISS, Pinecone, Milvus, Weaviate, Chroma) fetches the most relevant documents given a query.\n",
    "\n",
    "Generation → A large language model (LLM) takes both the query and the retrieved context to produce a grounded, coherent answer.\n",
    "```\n",
    "User Query → Encode as embedding → Retrieve top-k docs → LLM input = [query + docs] → LLM generates answer \n",
    "\n",
    "```\n",
    "\n",
    "![RAG Architecture](https://media.licdn.com/dms/image/v2/D5622AQFmFigdQfc-MQ/feedshare-shrink_2048_1536/B56ZisfydZG4Ao-/0/1755240673959?e=1758758400&v=beta&t=A60hsG_lPD0PvSXPif3mwgps35J6cUwkFkzn1VCw2Ws)\n",
    "\n"
   ]
  },
  {
   "cell_type": "markdown",
   "metadata": {},
   "source": [
    "## Vector DB\n",
    "\n",
    "![Vector DB](https://cdn.prod.website-files.com/6064b31ff49a2d31e0493af1/6894989eb89eba6244f42a13_66d6f57b458248b848888df1_AD_4nXc03SwDTX0vl9Y3L59hBb96cNc56cTMdEBNll2T57ReWxzg7r9JOeDlGxCUfswjP5r2XRAVT7ZF4ri7ZF6PuF92bMGh7Swg50tK-2NqZyWThdj0BskQ46PrOnb0Q7jGT1WV06jBTxvzE1HhtzqkkhdDQ4-t.png)\n",
    "\n",
    "\n",
    "A vector database is a special type of database designed to store and search high-dimensional vector embeddings (numeric representations of data like text, images, or audio) efficiently."
   ]
  },
  {
   "cell_type": "markdown",
   "metadata": {},
   "source": []
  }
 ],
 "metadata": {
  "language_info": {
   "name": "python"
  }
 },
 "nbformat": 4,
 "nbformat_minor": 2
}
