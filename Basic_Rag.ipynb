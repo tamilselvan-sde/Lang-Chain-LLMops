{
 "cells": [
  {
   "cell_type": "markdown",
   "metadata": {},
   "source": [
    "# Basic Rag\n"
   ]
  },
  {
   "cell_type": "markdown",
   "metadata": {},
   "source": []
  },
  {
   "cell_type": "code",
   "execution_count": 1,
   "metadata": {},
   "outputs": [
    {
     "name": "stdout",
     "output_type": "stream",
     "text": [
      "API Key Loaded: sk-pro...\n"
     ]
    }
   ],
   "source": [
    "import os\n",
    "from dotenv import load_dotenv, find_dotenv\n",
    "\n",
    "# Load environment variables from .env file\n",
    "_ = load_dotenv(find_dotenv())\n",
    "\n",
    "# Get OpenAI API key\n",
    "openai_api_key = os.environ[\"OPENAI_API_KEY\"]\n",
    "\n",
    "print(\"API Key Loaded:\", openai_api_key[:6] + \"...\" if openai_api_key else \"No key found\")\n"
   ]
  },
  {
   "cell_type": "code",
   "execution_count": null,
   "metadata": {},
   "outputs": [],
   "source": []
  },
  {
   "cell_type": "code",
   "execution_count": 3,
   "metadata": {},
   "outputs": [],
   "source": [
    "from langchain_community.vectorstores import FAISS\n",
    "from langchain_openai import OpenAIEmbeddings\n",
    "from langchain_text_splitters import CharacterTextSplitter\n",
    "from langchain_community.document_loaders import TextLoader"
   ]
  },
  {
   "cell_type": "code",
   "execution_count": 12,
   "metadata": {},
   "outputs": [],
   "source": [
    "loader = TextLoader(\"ms_dhoni.txt\")\n",
    "loaded_document = loader.load()"
   ]
  },
  {
   "cell_type": "code",
   "execution_count": 13,
   "metadata": {},
   "outputs": [],
   "source": [
    "text_splitter = CharacterTextSplitter(chunk_size=1000, chunk_overlap=0)\n",
    "chunks_of_text = text_splitter.split_documents(loaded_document)"
   ]
  },
  {
   "cell_type": "code",
   "execution_count": 14,
   "metadata": {},
   "outputs": [
    {
     "data": {
      "text/plain": [
       "56"
      ]
     },
     "execution_count": 14,
     "metadata": {},
     "output_type": "execute_result"
    }
   ],
   "source": [
    "len(chunks_of_text)\n"
   ]
  },
  {
   "cell_type": "code",
   "execution_count": 15,
   "metadata": {},
   "outputs": [],
   "source": [
    "embeddings = OpenAIEmbeddings()\n",
    "\n",
    "vector_db = FAISS.from_documents(chunks_of_text, embeddings)"
   ]
  },
  {
   "cell_type": "code",
   "execution_count": 16,
   "metadata": {},
   "outputs": [
    {
     "data": {
      "text/plain": [
       "<langchain_community.vectorstores.faiss.FAISS at 0x122267b50>"
      ]
     },
     "execution_count": 16,
     "metadata": {},
     "output_type": "execute_result"
    }
   ],
   "source": [
    "vector_db"
   ]
  },
  {
   "cell_type": "code",
   "execution_count": 17,
   "metadata": {},
   "outputs": [],
   "source": [
    "retriever = vector_db.as_retriever()\n"
   ]
  },
  {
   "cell_type": "code",
   "execution_count": 19,
   "metadata": {},
   "outputs": [
    {
     "data": {
      "text/plain": [
       "[Document(metadata={'source': 'ms_dhoni.txt'}, page_content=\"Beyond his international career, Dhoni made a massive impact in the Indian Premier League (IPL). As the captain of the \\nChennai Super Kings (CSK), he led the team to multiple IPL titles and playoff appearances. His connection with CSK fans runs \\ndeep, and he is adored as 'Thala' in Chennai, meaning 'leader' in Tamil. His calmness, humility, and loyalty towards the \\nfranchise made him an IPL legend.\\n\\nOff the field, Dhoni is known for his simplicity and grounded personality. Despite his enormous success, he has remained \\nhumble and approachable. He also has a passion for the Indian Army, holding the honorary rank of Lieutenant Colonel in the \\nTerritorial Army. His love for bikes and cars is well known, and he has one of the most impressive collections among \\ncricketers.\"),\n",
       " Document(metadata={'source': 'ms_dhoni.txt'}, page_content=\"Beyond his international career, Dhoni made a massive impact in the Indian Premier League (IPL). As the captain of the \\nChennai Super Kings (CSK), he led the team to multiple IPL titles and playoff appearances. His connection with CSK fans runs \\ndeep, and he is adored as 'Thala' in Chennai, meaning 'leader' in Tamil. His calmness, humility, and loyalty towards the \\nfranchise made him an IPL legend.\\n\\nOff the field, Dhoni is known for his simplicity and grounded personality. Despite his enormous success, he has remained \\nhumble and approachable. He also has a passion for the Indian Army, holding the honorary rank of Lieutenant Colonel in the \\nTerritorial Army. His love for bikes and cars is well known, and he has one of the most impressive collections among \\ncricketers.\"),\n",
       " Document(metadata={'source': 'ms_dhoni.txt'}, page_content=\"Beyond his international career, Dhoni made a massive impact in the Indian Premier League (IPL). As the captain of the \\nChennai Super Kings (CSK), he led the team to multiple IPL titles and playoff appearances. His connection with CSK fans runs \\ndeep, and he is adored as 'Thala' in Chennai, meaning 'leader' in Tamil. His calmness, humility, and loyalty towards the \\nfranchise made him an IPL legend.\\n\\nOff the field, Dhoni is known for his simplicity and grounded personality. Despite his enormous success, he has remained \\nhumble and approachable. He also has a passion for the Indian Army, holding the honorary rank of Lieutenant Colonel in the \\nTerritorial Army. His love for bikes and cars is well known, and he has one of the most impressive collections among \\ncricketers.\"),\n",
       " Document(metadata={'source': 'ms_dhoni.txt'}, page_content=\"Beyond his international career, Dhoni made a massive impact in the Indian Premier League (IPL). As the captain of the \\nChennai Super Kings (CSK), he led the team to multiple IPL titles and playoff appearances. His connection with CSK fans runs \\ndeep, and he is adored as 'Thala' in Chennai, meaning 'leader' in Tamil. His calmness, humility, and loyalty towards the \\nfranchise made him an IPL legend.\\n\\nOff the field, Dhoni is known for his simplicity and grounded personality. Despite his enormous success, he has remained \\nhumble and approachable. He also has a passion for the Indian Army, holding the honorary rank of Lieutenant Colonel in the \\nTerritorial Army. His love for bikes and cars is well known, and he has one of the most impressive collections among \\ncricketers.\")]"
      ]
     },
     "execution_count": 19,
     "metadata": {},
     "output_type": "execute_result"
    }
   ],
   "source": [
    "response = retriever.invoke(\"Who is thala in chennai?\")\n",
    "response"
   ]
  },
  {
   "cell_type": "code",
   "execution_count": 20,
   "metadata": {},
   "outputs": [
    {
     "data": {
      "text/plain": [
       "4"
      ]
     },
     "execution_count": 20,
     "metadata": {},
     "output_type": "execute_result"
    }
   ],
   "source": [
    "len(response)\n"
   ]
  },
  {
   "cell_type": "code",
   "execution_count": 26,
   "metadata": {},
   "outputs": [
    {
     "data": {
      "text/plain": [
       "VectorStoreRetriever(tags=['FAISS', 'OpenAIEmbeddings'], vectorstore=<langchain_community.vectorstores.faiss.FAISS object at 0x122267b50>, search_kwargs={'k': 1})"
      ]
     },
     "execution_count": 26,
     "metadata": {},
     "output_type": "execute_result"
    }
   ],
   "source": [
    "retriever = vector_db.as_retriever(search_kwargs={\"k\": 1})\n",
    "retriever"
   ]
  },
  {
   "cell_type": "code",
   "execution_count": 27,
   "metadata": {},
   "outputs": [
    {
     "data": {
      "text/plain": [
       "[Document(metadata={'source': 'ms_dhoni.txt'}, page_content=\"Beyond his international career, Dhoni made a massive impact in the Indian Premier League (IPL). As the captain of the \\nChennai Super Kings (CSK), he led the team to multiple IPL titles and playoff appearances. His connection with CSK fans runs \\ndeep, and he is adored as 'Thala' in Chennai, meaning 'leader' in Tamil. His calmness, humility, and loyalty towards the \\nfranchise made him an IPL legend.\\n\\nOff the field, Dhoni is known for his simplicity and grounded personality. Despite his enormous success, he has remained \\nhumble and approachable. He also has a passion for the Indian Army, holding the honorary rank of Lieutenant Colonel in the \\nTerritorial Army. His love for bikes and cars is well known, and he has one of the most impressive collections among \\ncricketers.\")]"
      ]
     },
     "execution_count": 27,
     "metadata": {},
     "output_type": "execute_result"
    }
   ],
   "source": [
    "response = retriever.invoke(\"what is cks?\")\n",
    "response"
   ]
  },
  {
   "cell_type": "markdown",
   "metadata": {},
   "source": [
    "# Simple use with LCEL"
   ]
  },
  {
   "cell_type": "code",
   "execution_count": 28,
   "metadata": {},
   "outputs": [],
   "source": [
    "from langchain_openai import ChatOpenAI\n",
    "from langchain_core.prompts import ChatPromptTemplate\n",
    "from langchain_core.output_parsers import StrOutputParser\n",
    "from langchain_core.runnables import RunnablePassthrough"
   ]
  },
  {
   "cell_type": "code",
   "execution_count": 29,
   "metadata": {},
   "outputs": [],
   "source": [
    "template = \"\"\"Answer the question based only on the following context:\n",
    "\n",
    "{context}\n",
    "\n",
    "Question: {question}\n",
    "\"\"\"\n",
    "\n",
    "prompt = ChatPromptTemplate.from_template(template)\n",
    "\n",
    "model = ChatOpenAI()"
   ]
  },
  {
   "cell_type": "code",
   "execution_count": 30,
   "metadata": {},
   "outputs": [],
   "source": [
    "def format_docs(docs):\n",
    "    return \"\\n\\n\".join([d.page_content for d in docs])\n",
    "\n",
    "\n",
    "chain = (\n",
    "    {\"context\": retriever | format_docs, \"question\": RunnablePassthrough()}\n",
    "    | prompt\n",
    "    | model\n",
    "    | StrOutputParser()\n",
    ")"
   ]
  },
  {
   "cell_type": "code",
   "execution_count": 38,
   "metadata": {},
   "outputs": [
    {
     "data": {
      "text/plain": [
       "'Dhoni won the inaugural T20 World Cup in 2007, the 2011 ICC Cricket World Cup, and the 2013 ICC Champions Trophy as captain. This achievement sets him apart from other cricket leaders because he is the only captain to have won all three major ICC trophies.'"
      ]
     },
     "execution_count": 38,
     "metadata": {},
     "output_type": "execute_result"
    }
   ],
   "source": [
    "response = chain.invoke(\"Which three ICC trophies did Dhoni win as captain, and why does this achievement set him apart from other cricket leaders?\")\n",
    "response"
   ]
  },
  {
   "cell_type": "code",
   "execution_count": 41,
   "metadata": {},
   "outputs": [
    {
     "data": {
      "text/plain": [
       "\"Based on the context provided, it is not specified what Dhoni's salary is.\""
      ]
     },
     "execution_count": 41,
     "metadata": {},
     "output_type": "execute_result"
    }
   ],
   "source": [
    "response = chain.invoke(\"what is dhoni salary?\")\n",
    "response"
   ]
  },
  {
   "cell_type": "code",
   "execution_count": 44,
   "metadata": {},
   "outputs": [
    {
     "data": {
      "text/plain": [
       "openai.types.chat.chat_completion.ChatCompletion"
      ]
     },
     "execution_count": 44,
     "metadata": {},
     "output_type": "execute_result"
    }
   ],
   "source": [
    "type(response)"
   ]
  },
  {
   "cell_type": "code",
   "execution_count": null,
   "metadata": {},
   "outputs": [],
   "source": []
  }
 ],
 "metadata": {
  "kernelspec": {
   "display_name": "Python 3",
   "language": "python",
   "name": "python3"
  },
  "language_info": {
   "codemirror_mode": {
    "name": "ipython",
    "version": 3
   },
   "file_extension": ".py",
   "mimetype": "text/x-python",
   "name": "python",
   "nbconvert_exporter": "python",
   "pygments_lexer": "ipython3",
   "version": "3.11.7"
  }
 },
 "nbformat": 4,
 "nbformat_minor": 2
}
