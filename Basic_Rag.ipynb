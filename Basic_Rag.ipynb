{
 "cells": [
  {
   "cell_type": "markdown",
   "metadata": {},
   "source": [
    "# Basic Rag\n"
   ]
  },
  {
   "cell_type": "markdown",
   "metadata": {},
   "source": []
  },
  {
   "cell_type": "code",
   "execution_count": 1,
   "metadata": {},
   "outputs": [
    {
     "name": "stdout",
     "output_type": "stream",
     "text": [
      "API Key Loaded: sk-pro...\n"
     ]
    }
   ],
   "source": [
    "import os\n",
    "from dotenv import load_dotenv, find_dotenv\n",
    "\n",
    "# Load environment variables from .env file\n",
    "_ = load_dotenv(find_dotenv())\n",
    "\n",
    "# Get OpenAI API key\n",
    "openai_api_key = os.environ[\"OPENAI_API_KEY\"]\n",
    "\n",
    "print(\"API Key Loaded:\", openai_api_key[:6] + \"...\" if openai_api_key else \"No key found\")\n"
   ]
  },
  {
   "cell_type": "code",
   "execution_count": null,
   "metadata": {},
   "outputs": [],
   "source": []
  },
  {
   "cell_type": "code",
   "execution_count": 3,
   "metadata": {},
   "outputs": [],
   "source": [
    "from langchain_community.vectorstores import FAISS\n",
    "from langchain_openai import OpenAIEmbeddings\n",
    "from langchain_text_splitters import CharacterTextSplitter\n",
    "from langchain_community.document_loaders import TextLoader"
   ]
  },
  {
   "cell_type": "code",
   "execution_count": 12,
   "metadata": {},
   "outputs": [],
   "source": [
    "loader = TextLoader(\"ms_dhoni.txt\")\n",
    "loaded_document = loader.load()"
   ]
  },
  {
   "cell_type": "code",
   "execution_count": 13,
   "metadata": {},
   "outputs": [],
   "source": [
    "text_splitter = CharacterTextSplitter(chunk_size=1000, chunk_overlap=0)\n",
    "chunks_of_text = text_splitter.split_documents(loaded_document)"
   ]
  },
  {
   "cell_type": "code",
   "execution_count": 14,
   "metadata": {},
   "outputs": [
    {
     "data": {
      "text/plain": [
       "56"
      ]
     },
     "execution_count": 14,
     "metadata": {},
     "output_type": "execute_result"
    }
   ],
   "source": [
    "len(chunks_of_text)\n"
   ]
  },
  {
   "cell_type": "code",
   "execution_count": 15,
   "metadata": {},
   "outputs": [],
   "source": [
    "embeddings = OpenAIEmbeddings()\n",
    "\n",
    "vector_db = FAISS.from_documents(chunks_of_text, embeddings)"
   ]
  },
  {
   "cell_type": "code",
   "execution_count": 16,
   "metadata": {},
   "outputs": [
    {
     "data": {
      "text/plain": [
       "<langchain_community.vectorstores.faiss.FAISS at 0x122267b50>"
      ]
     },
     "execution_count": 16,
     "metadata": {},
     "output_type": "execute_result"
    }
   ],
   "source": [
    "vector_db"
   ]
  },
  {
   "cell_type": "code",
   "execution_count": 17,
   "metadata": {},
   "outputs": [],
   "source": [
    "retriever = vector_db.as_retriever()\n"
   ]
  },
  {
   "cell_type": "code",
   "execution_count": 19,
   "metadata": {},
   "outputs": [
    {
     "data": {
      "text/plain": [
       "[Document(metadata={'source': 'ms_dhoni.txt'}, page_content=\"Beyond his international career, Dhoni made a massive impact in the Indian Premier League (IPL). As the captain of the \\nChennai Super Kings (CSK), he led the team to multiple IPL titles and playoff appearances. His connection with CSK fans runs \\ndeep, and he is adored as 'Thala' in Chennai, meaning 'leader' in Tamil. His calmness, humility, and loyalty towards the \\nfranchise made him an IPL legend.\\n\\nOff the field, Dhoni is known for his simplicity and grounded personality. Despite his enormous success, he has remained \\nhumble and approachable. He also has a passion for the Indian Army, holding the honorary rank of Lieutenant Colonel in the \\nTerritorial Army. His love for bikes and cars is well known, and he has one of the most impressive collections among \\ncricketers.\"),\n",
       " Document(metadata={'source': 'ms_dhoni.txt'}, page_content=\"Beyond his international career, Dhoni made a massive impact in the Indian Premier League (IPL). As the captain of the \\nChennai Super Kings (CSK), he led the team to multiple IPL titles and playoff appearances. His connection with CSK fans runs \\ndeep, and he is adored as 'Thala' in Chennai, meaning 'leader' in Tamil. His calmness, humility, and loyalty towards the \\nfranchise made him an IPL legend.\\n\\nOff the field, Dhoni is known for his simplicity and grounded personality. Despite his enormous success, he has remained \\nhumble and approachable. He also has a passion for the Indian Army, holding the honorary rank of Lieutenant Colonel in the \\nTerritorial Army. His love for bikes and cars is well known, and he has one of the most impressive collections among \\ncricketers.\"),\n",
       " Document(metadata={'source': 'ms_dhoni.txt'}, page_content=\"Beyond his international career, Dhoni made a massive impact in the Indian Premier League (IPL). As the captain of the \\nChennai Super Kings (CSK), he led the team to multiple IPL titles and playoff appearances. His connection with CSK fans runs \\ndeep, and he is adored as 'Thala' in Chennai, meaning 'leader' in Tamil. His calmness, humility, and loyalty towards the \\nfranchise made him an IPL legend.\\n\\nOff the field, Dhoni is known for his simplicity and grounded personality. Despite his enormous success, he has remained \\nhumble and approachable. He also has a passion for the Indian Army, holding the honorary rank of Lieutenant Colonel in the \\nTerritorial Army. His love for bikes and cars is well known, and he has one of the most impressive collections among \\ncricketers.\"),\n",
       " Document(metadata={'source': 'ms_dhoni.txt'}, page_content=\"Beyond his international career, Dhoni made a massive impact in the Indian Premier League (IPL). As the captain of the \\nChennai Super Kings (CSK), he led the team to multiple IPL titles and playoff appearances. His connection with CSK fans runs \\ndeep, and he is adored as 'Thala' in Chennai, meaning 'leader' in Tamil. His calmness, humility, and loyalty towards the \\nfranchise made him an IPL legend.\\n\\nOff the field, Dhoni is known for his simplicity and grounded personality. Despite his enormous success, he has remained \\nhumble and approachable. He also has a passion for the Indian Army, holding the honorary rank of Lieutenant Colonel in the \\nTerritorial Army. His love for bikes and cars is well known, and he has one of the most impressive collections among \\ncricketers.\")]"
      ]
     },
     "execution_count": 19,
     "metadata": {},
     "output_type": "execute_result"
    }
   ],
   "source": [
    "response = retriever.invoke(\"Who is thala in chennai?\")\n",
    "response"
   ]
  },
  {
   "cell_type": "code",
   "execution_count": 20,
   "metadata": {},
   "outputs": [
    {
     "data": {
      "text/plain": [
       "4"
      ]
     },
     "execution_count": 20,
     "metadata": {},
     "output_type": "execute_result"
    }
   ],
   "source": [
    "len(response)\n"
   ]
  },
  {
   "cell_type": "code",
   "execution_count": 26,
   "metadata": {},
   "outputs": [
    {
     "data": {
      "text/plain": [
       "VectorStoreRetriever(tags=['FAISS', 'OpenAIEmbeddings'], vectorstore=<langchain_community.vectorstores.faiss.FAISS object at 0x122267b50>, search_kwargs={'k': 1})"
      ]
     },
     "execution_count": 26,
     "metadata": {},
     "output_type": "execute_result"
    }
   ],
   "source": [
    "retriever = vector_db.as_retriever(search_kwargs={\"k\": 1})\n",
    "retriever"
   ]
  },
  {
   "cell_type": "code",
   "execution_count": 27,
   "metadata": {},
   "outputs": [
    {
     "data": {
      "text/plain": [
       "[Document(metadata={'source': 'ms_dhoni.txt'}, page_content=\"Beyond his international career, Dhoni made a massive impact in the Indian Premier League (IPL). As the captain of the \\nChennai Super Kings (CSK), he led the team to multiple IPL titles and playoff appearances. His connection with CSK fans runs \\ndeep, and he is adored as 'Thala' in Chennai, meaning 'leader' in Tamil. His calmness, humility, and loyalty towards the \\nfranchise made him an IPL legend.\\n\\nOff the field, Dhoni is known for his simplicity and grounded personality. Despite his enormous success, he has remained \\nhumble and approachable. He also has a passion for the Indian Army, holding the honorary rank of Lieutenant Colonel in the \\nTerritorial Army. His love for bikes and cars is well known, and he has one of the most impressive collections among \\ncricketers.\")]"
      ]
     },
     "execution_count": 27,
     "metadata": {},
     "output_type": "execute_result"
    }
   ],
   "source": [
    "response = retriever.invoke(\"what is cks?\")\n",
    "response"
   ]
  },
  {
   "cell_type": "markdown",
   "metadata": {},
   "source": [
    "# Simple use with LCEL"
   ]
  },
  {
   "cell_type": "code",
   "execution_count": 28,
   "metadata": {},
   "outputs": [],
   "source": [
    "from langchain_openai import ChatOpenAI\n",
    "from langchain_core.prompts import ChatPromptTemplate\n",
    "from langchain_core.output_parsers import StrOutputParser\n",
    "from langchain_core.runnables import RunnablePassthrough"
   ]
  },
  {
   "cell_type": "code",
   "execution_count": 29,
   "metadata": {},
   "outputs": [],
   "source": [
    "template = \"\"\"Answer the question based only on the following context:\n",
    "\n",
    "{context}\n",
    "\n",
    "Question: {question}\n",
    "\"\"\"\n",
    "\n",
    "prompt = ChatPromptTemplate.from_template(template)\n",
    "\n",
    "model = ChatOpenAI()"
   ]
  },
  {
   "cell_type": "code",
   "execution_count": 30,
   "metadata": {},
   "outputs": [],
   "source": [
    "def format_docs(docs):\n",
    "    return \"\\n\\n\".join([d.page_content for d in docs])\n",
    "\n",
    "\n",
    "chain = (\n",
    "    {\"context\": retriever | format_docs, \"question\": RunnablePassthrough()}\n",
    "    | prompt\n",
    "    | model\n",
    "    | StrOutputParser()\n",
    ")"
   ]
  },
  {
   "cell_type": "code",
   "execution_count": 38,
   "metadata": {},
   "outputs": [
    {
     "data": {
      "text/plain": [
       "'Dhoni won the inaugural T20 World Cup in 2007, the 2011 ICC Cricket World Cup, and the 2013 ICC Champions Trophy as captain. This achievement sets him apart from other cricket leaders because he is the only captain to have won all three major ICC trophies.'"
      ]
     },
     "execution_count": 38,
     "metadata": {},
     "output_type": "execute_result"
    }
   ],
   "source": [
    "response = chain.invoke(\"Which three ICC trophies did Dhoni win as captain, and why does this achievement set him apart from other cricket leaders?\")\n",
    "response"
   ]
  },
  {
   "cell_type": "code",
   "execution_count": 41,
   "metadata": {},
   "outputs": [
    {
     "data": {
      "text/plain": [
       "\"Based on the context provided, it is not specified what Dhoni's salary is.\""
      ]
     },
     "execution_count": 41,
     "metadata": {},
     "output_type": "execute_result"
    }
   ],
   "source": [
    "response = chain.invoke(\"what is dhoni salary?\")\n",
    "response"
   ]
  },
  {
   "cell_type": "code",
   "execution_count": 44,
   "metadata": {},
   "outputs": [
    {
     "data": {
      "text/plain": [
       "openai.types.chat.chat_completion.ChatCompletion"
      ]
     },
     "execution_count": 44,
     "metadata": {},
     "output_type": "execute_result"
    }
   ],
   "source": [
    "type(response)"
   ]
  },
  {
   "cell_type": "markdown",
   "metadata": {},
   "source": [
    "# loggin with mlflow"
   ]
  },
  {
   "cell_type": "code",
   "execution_count": 47,
   "metadata": {},
   "outputs": [
    {
     "name": "stderr",
     "output_type": "stream",
     "text": [
      "2025/08/23 21:18:45 INFO mlflow.tracking.fluent: Experiment with name 'Dhoni-RAG-with-MLflow' does not exist. Creating a new experiment.\n"
     ]
    },
    {
     "name": "stdout",
     "output_type": "stream",
     "text": [
      "MLflow run completed: 572a07f5fe30418b8d7689c7eff9404b\n",
      "Open MLflow UI at http://127.0.0.1:5000 and check the run artifacts/metrics/params.\n"
     ]
    }
   ],
   "source": [
    "import os\n",
    "import tempfile\n",
    "from dotenv import load_dotenv, find_dotenv\n",
    "\n",
    "# --- Load envs (expects OPENAI_API_KEY and optional MLFLOW_TRACKING_URI) ---\n",
    "_ = load_dotenv(find_dotenv())\n",
    "OPENAI_API_KEY = os.getenv(\"OPENAI_API_KEY\")\n",
    "assert OPENAI_API_KEY, \"OPENAI_API_KEY missing in environment/.env\"\n",
    "\n",
    "import mlflow\n",
    "from langchain_community.vectorstores import FAISS\n",
    "from langchain_openai import OpenAIEmbeddings, ChatOpenAI\n",
    "from langchain_text_splitters import CharacterTextSplitter\n",
    "from langchain_community.document_loaders import TextLoader\n",
    "from langchain_core.prompts import ChatPromptTemplate\n",
    "\n",
    "# ---------------- User-configurable knobs ----------------\n",
    "EXPERIMENT_NAME = \"Dhoni-RAG-with-MLflow\"\n",
    "LLM_MODEL = os.getenv(\"OPENAI_CHAT_MODEL\", \"gpt-4o-mini\")  # set explicitly to log it\n",
    "EMBED_MODEL = os.getenv(\"OPENAI_EMBED_MODEL\", \"text-embedding-3-small\")\n",
    "CHUNK_SIZE = 1000\n",
    "CHUNK_OVERLAP = 100\n",
    "TOP_K = 2\n",
    "DOC_PATH = \"ms_dhoni.txt\"\n",
    "\n",
    "# ----------------- Setup MLflow -----------------\n",
    "# If you already run `mlflow ui --host 127.0.0.1 --port 5000` this is fine.\n",
    "# Otherwise set MLFLOW_TRACKING_URI in .env to your server.\n",
    "mlflow.set_experiment(EXPERIMENT_NAME)\n",
    "\n",
    "# ----------------- Build RAG pieces -----------------\n",
    "loader = TextLoader(DOC_PATH)\n",
    "docs = loader.load()\n",
    "\n",
    "splitter = CharacterTextSplitter(chunk_size=CHUNK_SIZE, chunk_overlap=CHUNK_OVERLAP)\n",
    "chunks = splitter.split_documents(docs)\n",
    "\n",
    "emb = OpenAIEmbeddings(model=EMBED_MODEL)\n",
    "vdb = FAISS.from_documents(chunks, emb)\n",
    "retriever = vdb.as_retriever(search_kwargs={\"k\": TOP_K})\n",
    "\n",
    "prompt_tmpl = \"\"\"Answer the question using ONLY the context.\n",
    "If the answer is not in the context, say \"I don't know\".\n",
    "\n",
    "Context:\n",
    "{context}\n",
    "\n",
    "Question:\n",
    "{question}\n",
    "\"\"\"\n",
    "prompt = ChatPromptTemplate.from_template(prompt_tmpl)\n",
    "\n",
    "# Keep chain simple so we get AIMessage back (with usage metadata)\n",
    "llm = ChatOpenAI(model=LLM_MODEL, temperature=0)\n",
    "\n",
    "def format_docs(ds):\n",
    "    return \"\\n\\n\".join(d.page_content for d in ds)\n",
    "\n",
    "def ask(question: str):\n",
    "    context_docs = retriever.invoke(question)\n",
    "    context_text = format_docs(context_docs)\n",
    "    # produce AIMessage to capture token usage\n",
    "    ai_msg = (prompt | llm).invoke({\"context\": context_text, \"question\": question})\n",
    "    answer = ai_msg.content\n",
    "    usage = ai_msg.response_metadata.get(\"token_usage\", {})  # prompt_tokens, completion_tokens, total_tokens\n",
    "    return {\n",
    "        \"question\": question,\n",
    "        \"answer\": answer,\n",
    "        \"context\": context_text,\n",
    "        \"usage\": usage,\n",
    "    }\n",
    "\n",
    "if __name__ == \"__main__\":\n",
    "    with mlflow.start_run(run_name=\"rag_eval\") as run:\n",
    "        # ---- Log high-level params ----\n",
    "        mlflow.log_params({\n",
    "            \"llm_model\": LLM_MODEL,\n",
    "            \"embed_model\": EMBED_MODEL,\n",
    "            \"chunk_size\": CHUNK_SIZE,\n",
    "            \"chunk_overlap\": CHUNK_OVERLAP,\n",
    "            \"retriever_k\": TOP_K,\n",
    "            \"doc_path\": DOC_PATH,\n",
    "        })\n",
    "\n",
    "        # ---- Log prompt template ----\n",
    "        mlflow.log_text(prompt_tmpl, artifact_file=\"prompt_template.txt\")\n",
    "\n",
    "        # ---- Save and log FAISS index as artifact ----\n",
    "        with tempfile.TemporaryDirectory() as tmpdir:\n",
    "            idx_dir = os.path.join(tmpdir, \"faiss_index\")\n",
    "            vdb.save_local(idx_dir)\n",
    "            mlflow.log_artifacts(idx_dir, artifact_path=\"faiss_index\")\n",
    "\n",
    "        # ---- Ask a few questions and log results ----\n",
    "        questions = [\n",
    "            \"Which three ICC trophies did Dhoni win as captain, and why is this unique?\",\n",
    "            \"Who is called 'Thala' in Chennai?\",\n",
    "            \"What is CSK?\",\n",
    "            \"What is Dhoni's salary?\",\n",
    "        ]\n",
    "\n",
    "        all_usage = {\"prompt_tokens\": 0, \"completion_tokens\": 0, \"total_tokens\": 0}\n",
    "\n",
    "        for i, q in enumerate(questions, start=1):\n",
    "            result = ask(q)\n",
    "\n",
    "            # log each Q/A as text artifacts\n",
    "            mlflow.log_text(result[\"question\"], artifact_file=f\"qa/{i:02d}_question.txt\")\n",
    "            mlflow.log_text(result[\"context\"], artifact_file=f\"qa/{i:02d}_retrieved_context.txt\")\n",
    "            mlflow.log_text(result[\"answer\"], artifact_file=f\"qa/{i:02d}_answer.txt\")\n",
    "\n",
    "            # log token metrics (if available)\n",
    "            usage = result[\"usage\"] or {}\n",
    "            if \"prompt_tokens\" in usage:\n",
    "                mlflow.log_metrics({\n",
    "                    f\"q{i}_prompt_tokens\": usage.get(\"prompt_tokens\", 0),\n",
    "                    f\"q{i}_completion_tokens\": usage.get(\"completion_tokens\", 0),\n",
    "                    f\"q{i}_total_tokens\": usage.get(\"total_tokens\", 0),\n",
    "                })\n",
    "                for k in all_usage:\n",
    "                    all_usage[k] += usage.get(k, 0)\n",
    "\n",
    "        # log aggregate token usage\n",
    "        mlflow.log_metrics({\n",
    "            \"sum_prompt_tokens\": all_usage[\"prompt_tokens\"],\n",
    "            \"sum_completion_tokens\": all_usage[\"completion_tokens\"],\n",
    "            \"sum_total_tokens\": all_usage[\"total_tokens\"],\n",
    "            \"num_questions\": len(questions),\n",
    "        })\n",
    "\n",
    "        print(f\"MLflow run completed: {run.info.run_id}\")\n",
    "        print(\"Open MLflow UI at http://127.0.0.1:5000 and check the run artifacts/metrics/params.\")\n"
   ]
  },
  {
   "cell_type": "code",
   "execution_count": null,
   "metadata": {},
   "outputs": [
    {
     "name": "stdout",
     "output_type": "stream",
     "text": [
      "Name: mlflow\n",
      "Version: 3.2.0\n",
      "Summary: MLflow is an open source platform for the complete machine learning lifecycle\n",
      "Home-page: https://mlflow.org\n",
      "Author: \n",
      "Author-email: \n",
      "License: Copyright 2018 Databricks, Inc.  All rights reserved.\n",
      "\n",
      "                                Apache License\n",
      "                           Version 2.0, January 2004\n",
      "                        http://www.apache.org/licenses/\n",
      "\n",
      "   TERMS AND CONDITIONS FOR USE, REPRODUCTION, AND DISTRIBUTION\n",
      "\n",
      "   1. Definitions.\n",
      "\n",
      "      \"License\" shall mean the terms and conditions for use, reproduction,\n",
      "      and distribution as defined by Sections 1 through 9 of this document.\n",
      "\n",
      "      \"Licensor\" shall mean the copyright owner or entity authorized by\n",
      "      the copyright owner that is granting the License.\n",
      "\n",
      "      \"Legal Entity\" shall mean the union of the acting entity and all\n",
      "      other entities that control, are controlled by, or are under common\n",
      "      control with that entity. For the purposes of this definition,\n",
      "      \"control\" means (i) the power, direct or indirect, to cause the\n",
      "      direction or management of such entity, whether by contract or\n",
      "      otherwise, or (ii) ownership of fifty percent (50%) or more of the\n",
      "      outstanding shares, or (iii) beneficial ownership of such entity.\n",
      "\n",
      "      \"You\" (or \"Your\") shall mean an individual or Legal Entity\n",
      "      exercising permissions granted by this License.\n",
      "\n",
      "      \"Source\" form shall mean the preferred form for making modifications,\n",
      "      including but not limited to software source code, documentation\n",
      "      source, and configuration files.\n",
      "\n",
      "      \"Object\" form shall mean any form resulting from mechanical\n",
      "      transformation or translation of a Source form, including but\n",
      "      not limited to compiled object code, generated documentation,\n",
      "      and conversions to other media types.\n",
      "\n",
      "      \"Work\" shall mean the work of authorship, whether in Source or\n",
      "      Object form, made available under the License, as indicated by a\n",
      "      copyright notice that is included in or attached to the work\n",
      "      (an example is provided in the Appendix below).\n",
      "\n",
      "      \"Derivative Works\" shall mean any work, whether in Source or Object\n",
      "      form, that is based on (or derived from) the Work and for which the\n",
      "      editorial revisions, annotations, elaborations, or other modifications\n",
      "      represent, as a whole, an original work of authorship. For the purposes\n",
      "      of this License, Derivative Works shall not include works that remain\n",
      "      separable from, or merely link (or bind by name) to the interfaces of,\n",
      "      the Work and Derivative Works thereof.\n",
      "\n",
      "      \"Contribution\" shall mean any work of authorship, including\n",
      "      the original version of the Work and any modifications or additions\n",
      "      to that Work or Derivative Works thereof, that is intentionally\n",
      "      submitted to Licensor for inclusion in the Work by the copyright owner\n",
      "      or by an individual or Legal Entity authorized to submit on behalf of\n",
      "      the copyright owner. For the purposes of this definition, \"submitted\"\n",
      "      means any form of electronic, verbal, or written communication sent\n",
      "      to the Licensor or its representatives, including but not limited to\n",
      "      communication on electronic mailing lists, source code control systems,\n",
      "      and issue tracking systems that are managed by, or on behalf of, the\n",
      "      Licensor for the purpose of discussing and improving the Work, but\n",
      "      excluding communication that is conspicuously marked or otherwise\n",
      "      designated in writing by the copyright owner as \"Not a Contribution.\"\n",
      "\n",
      "      \"Contributor\" shall mean Licensor and any individual or Legal Entity\n",
      "      on behalf of whom a Contribution has been received by Licensor and\n",
      "      subsequently incorporated within the Work.\n",
      "\n",
      "   2. Grant of Copyright License. Subject to the terms and conditions of\n",
      "      this License, each Contributor hereby grants to You a perpetual,\n",
      "      worldwide, non-exclusive, no-charge, royalty-free, irrevocable\n",
      "      copyright license to reproduce, prepare Derivative Works of,\n",
      "      publicly display, publicly perform, sublicense, and distribute the\n",
      "      Work and such Derivative Works in Source or Object form.\n",
      "\n",
      "   3. Grant of Patent License. Subject to the terms and conditions of\n",
      "      this License, each Contributor hereby grants to You a perpetual,\n",
      "      worldwide, non-exclusive, no-charge, royalty-free, irrevocable\n",
      "      (except as stated in this section) patent license to make, have made,\n",
      "      use, offer to sell, sell, import, and otherwise transfer the Work,\n",
      "      where such license applies only to those patent claims licensable\n",
      "      by such Contributor that are necessarily infringed by their\n",
      "      Contribution(s) alone or by combination of their Contribution(s)\n",
      "      with the Work to which such Contribution(s) was submitted. If You\n",
      "      institute patent litigation against any entity (including a\n",
      "      cross-claim or counterclaim in a lawsuit) alleging that the Work\n",
      "      or a Contribution incorporated within the Work constitutes direct\n",
      "      or contributory patent infringement, then any patent licenses\n",
      "      granted to You under this License for that Work shall terminate\n",
      "      as of the date such litigation is filed.\n",
      "\n",
      "   4. Redistribution. You may reproduce and distribute copies of the\n",
      "      Work or Derivative Works thereof in any medium, with or without\n",
      "      modifications, and in Source or Object form, provided that You\n",
      "      meet the following conditions:\n",
      "\n",
      "      (a) You must give any other recipients of the Work or\n",
      "          Derivative Works a copy of this License; and\n",
      "\n",
      "      (b) You must cause any modified files to carry prominent notices\n",
      "          stating that You changed the files; and\n",
      "\n",
      "      (c) You must retain, in the Source form of any Derivative Works\n",
      "          that You distribute, all copyright, patent, trademark, and\n",
      "          attribution notices from the Source form of the Work,\n",
      "          excluding those notices that do not pertain to any part of\n",
      "          the Derivative Works; and\n",
      "\n",
      "      (d) If the Work includes a \"NOTICE\" text file as part of its\n",
      "          distribution, then any Derivative Works that You distribute must\n",
      "          include a readable copy of the attribution notices contained\n",
      "          within such NOTICE file, excluding those notices that do not\n",
      "          pertain to any part of the Derivative Works, in at least one\n",
      "          of the following places: within a NOTICE text file distributed\n",
      "          as part of the Derivative Works; within the Source form or\n",
      "          documentation, if provided along with the Derivative Works; or,\n",
      "          within a display generated by the Derivative Works, if and\n",
      "          wherever such third-party notices normally appear. The contents\n",
      "          of the NOTICE file are for informational purposes only and\n",
      "          do not modify the License. You may add Your own attribution\n",
      "          notices within Derivative Works that You distribute, alongside\n",
      "          or as an addendum to the NOTICE text from the Work, provided\n",
      "          that such additional attribution notices cannot be construed\n",
      "          as modifying the License.\n",
      "\n",
      "      You may add Your own copyright statement to Your modifications and\n",
      "      may provide additional or different license terms and conditions\n",
      "      for use, reproduction, or distribution of Your modifications, or\n",
      "      for any such Derivative Works as a whole, provided Your use,\n",
      "      reproduction, and distribution of the Work otherwise complies with\n",
      "      the conditions stated in this License.\n",
      "\n",
      "   5. Submission of Contributions. Unless You explicitly state otherwise,\n",
      "      any Contribution intentionally submitted for inclusion in the Work\n",
      "      by You to the Licensor shall be under the terms and conditions of\n",
      "      this License, without any additional terms or conditions.\n",
      "      Notwithstanding the above, nothing herein shall supersede or modify\n",
      "      the terms of any separate license agreement you may have executed\n",
      "      with Licensor regarding such Contributions.\n",
      "\n",
      "   6. Trademarks. This License does not grant permission to use the trade\n",
      "      names, trademarks, service marks, or product names of the Licensor,\n",
      "      except as required for reasonable and customary use in describing the\n",
      "      origin of the Work and reproducing the content of the NOTICE file.\n",
      "\n",
      "   7. Disclaimer of Warranty. Unless required by applicable law or\n",
      "      agreed to in writing, Licensor provides the Work (and each\n",
      "      Contributor provides its Contributions) on an \"AS IS\" BASIS,\n",
      "      WITHOUT WARRANTIES OR CONDITIONS OF ANY KIND, either express or\n",
      "      implied, including, without limitation, any warranties or conditions\n",
      "      of TITLE, NON-INFRINGEMENT, MERCHANTABILITY, or FITNESS FOR A\n",
      "      PARTICULAR PURPOSE. You are solely responsible for determining the\n",
      "      appropriateness of using or redistributing the Work and assume any\n",
      "      risks associated with Your exercise of permissions under this License.\n",
      "\n",
      "   8. Limitation of Liability. In no event and under no legal theory,\n",
      "      whether in tort (including negligence), contract, or otherwise,\n",
      "      unless required by applicable law (such as deliberate and grossly\n",
      "      negligent acts) or agreed to in writing, shall any Contributor be\n",
      "      liable to You for damages, including any direct, indirect, special,\n",
      "      incidental, or consequential damages of any character arising as a\n",
      "      result of this License or out of the use or inability to use the\n",
      "      Work (including but not limited to damages for loss of goodwill,\n",
      "      work stoppage, computer failure or malfunction, or any and all\n",
      "      other commercial damages or losses), even if such Contributor\n",
      "      has been advised of the possibility of such damages.\n",
      "\n",
      "   9. Accepting Warranty or Additional Liability. While redistributing\n",
      "      the Work or Derivative Works thereof, You may choose to offer,\n",
      "      and charge a fee for, acceptance of support, warranty, indemnity,\n",
      "      or other liability obligations and/or rights consistent with this\n",
      "      License. However, in accepting such obligations, You may act only\n",
      "      on Your own behalf and on Your sole responsibility, not on behalf\n",
      "      of any other Contributor, and only if You agree to indemnify,\n",
      "      defend, and hold each Contributor harmless for any liability\n",
      "      incurred by, or claims asserted against, such Contributor by reason\n",
      "      of your accepting any such warranty or additional liability.\n",
      "\n",
      "   END OF TERMS AND CONDITIONS\n",
      "   APPENDIX: How to apply the Apache License to your work.\n",
      "\n",
      "      To apply the Apache License to your work, attach the following\n",
      "      boilerplate notice, with the fields enclosed by brackets \"[]\"\n",
      "      replaced with your own identifying information. (Don't include\n",
      "      the brackets!)  The text should be enclosed in the appropriate\n",
      "      comment syntax for the file format. We also recommend that a\n",
      "      file or class name and description of purpose be included on the\n",
      "      same \"printed page\" as the copyright notice for easier\n",
      "      identification within third-party archives.\n",
      "\n",
      "   Copyright [yyyy] [name of copyright owner]\n",
      "\n",
      "   Licensed under the Apache License, Version 2.0 (the \"License\");\n",
      "   you may not use this file except in compliance with the License.\n",
      "   You may obtain a copy of the License at\n",
      "\n",
      "       http://www.apache.org/licenses/LICENSE-2.0\n",
      "\n",
      "   Unless required by applicable law or agreed to in writing, software\n",
      "   distributed under the License is distributed on an \"AS IS\" BASIS,\n",
      "   WITHOUT WARRANTIES OR CONDITIONS OF ANY KIND, either express or implied.\n",
      "   See the License for the specific language governing permissions and\n",
      "   limitations under the License.\n",
      "\n",
      "Location: /Users/tamilselavans/anaconda3/envs/mypy3.11.7/lib/python3.11/site-packages\n",
      "Requires: alembic, docker, Flask, graphene, gunicorn, matplotlib, mlflow-skinny, mlflow-tracing, numpy, pandas, pyarrow, scikit-learn, scipy, sqlalchemy\n",
      "Required-by: \n"
     ]
    }
   ],
   "source": []
  },
  {
   "cell_type": "code",
   "execution_count": null,
   "metadata": {},
   "outputs": [],
   "source": []
  }
 ],
 "metadata": {
  "kernelspec": {
   "display_name": "Python 3",
   "language": "python",
   "name": "python3"
  },
  "language_info": {
   "codemirror_mode": {
    "name": "ipython",
    "version": 3
   },
   "file_extension": ".py",
   "mimetype": "text/x-python",
   "name": "python",
   "nbconvert_exporter": "python",
   "pygments_lexer": "ipython3",
   "version": "3.11.7"
  }
 },
 "nbformat": 4,
 "nbformat_minor": 2
}
